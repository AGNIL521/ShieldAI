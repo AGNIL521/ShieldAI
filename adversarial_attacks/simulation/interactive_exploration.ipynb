{
 "cells": [
  {
   "cell_type": "markdown",
   "metadata": {},
   "source": [
    "# Interactive Exploration: Adversarial Attacks and Defenses\n",
    "\n",
    "This notebook lets you run, visualize, and experiment with adversarial attacks and defenses on image and text classifiers."
   ]
  },
  {
   "cell_type": "code",
   "metadata": {},
   "source": [
    "# Run this cell to import dependencies\n",
    "import numpy as np\n",
    "import matplotlib.pyplot as plt\n",
    "from sklearn.datasets import load_digits\n",
    "from sklearn.linear_model import LogisticRegression\n",
    "from sklearn.feature_extraction.text import CountVectorizer\n",
    "from sklearn.naive_bayes import MultinomialNB\n"
   ]
  },
  {
   "cell_type": "markdown",
   "metadata": {},
   "source": [
    "## Image Classifier: Adversarial Example Demo\n",
    "Generate and visualize adversarial images."
   ]
  },
  {
   "cell_type": "code",
   "metadata": {},
   "source": [
    "data = load_digits()\n",
    "X, y = data.data / 16.0, data.target\n",
    "y_binary = (y == 3).astype(int)\n",
    "clf = LogisticRegression(max_iter=500).fit(X, y_binary)\n",
    "epsilon = 0.3\n",
    "grad = clf.coef_[0]\n",
    "idx = np.where(y_binary == 1)[0][0]\n",
    "x_orig = X[idx]\n",
    "x_adv = np.clip(x_orig + epsilon * np.sign(grad), 0, 1)\n",
    "plt.subplot(1,2,1); plt.imshow(x_orig.reshape(8,8), cmap='gray'); plt.title('Original'); plt.axis('off')\n",
    "plt.subplot(1,2,2); plt.imshow(x_adv.reshape(8,8), cmap='gray'); plt.title('Adversarial'); plt.axis('off')\n",
    "plt.show()"
   ]
  },
  {
   "cell_type": "markdown",
   "metadata": {},
   "source": [
    "## Text Classifier: Adversarial Example Demo\n",
    "Craft adversarial text and observe classifier predictions."
   ]
  },
  {
   "cell_type": "code",
   "metadata": {},
   "source": [
    "texts = ['free money', 'urgent offer', 'hello friend', 'see you']\n",
    "labels = [1, 1, 0, 0]\n",
    "vectorizer = CountVectorizer().fit(texts)\n",
    "clf = MultinomialNB().fit(vectorizer.transform(texts), labels)\n",
    "def adv_text(t): return t.replace('e','3').replace('o','0')\n",
    "for t in texts:\n",
    "    print(f'Original: {t}, Adv: {adv_text(t)}, Pred: {clf.predict(vectorizer.transform([adv_text(t)]))[0]}')"
   ]
  }
 ],
 "metadata": {
  "kernelspec": {
   "display_name": "Python 3",
   "language": "python",
   "name": "python3"
  },
  "language_info": {
   "name": "python",
   "version": "3.10"
  }
 },
 "nbformat": 4,
 "nbformat_minor": 2
}
